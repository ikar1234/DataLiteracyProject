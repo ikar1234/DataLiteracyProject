{
 "cells": [
  {
   "cell_type": "code",
   "execution_count": 200,
   "id": "e41d95f4",
   "metadata": {},
   "outputs": [],
   "source": [
    "import pandas as pd\n",
    "import numpy as np\n",
    "from matplotlib import pyplot as plt\n",
    "import re\n",
    "from collections import Counter\n",
    "plt.rcParams[\"figure.figsize\"] = (14,7)"
   ]
  },
  {
   "cell_type": "markdown",
   "id": "5fdeb421",
   "metadata": {},
   "source": [
    "## Data exploration and prepocessing"
   ]
  },
  {
   "cell_type": "code",
   "execution_count": 69,
   "id": "d0c7c306",
   "metadata": {},
   "outputs": [],
   "source": [
    "data = pd.read_csv('googleplaystore.csv')"
   ]
  },
  {
   "cell_type": "markdown",
   "id": "1b6f8114",
   "metadata": {},
   "source": [
    "First, we have a look at the data and throw some summary statistics:"
   ]
  },
  {
   "cell_type": "code",
   "execution_count": 70,
   "id": "4a2c09e7",
   "metadata": {},
   "outputs": [
    {
     "name": "stdout",
     "output_type": "stream",
     "text": [
      "<class 'pandas.core.frame.DataFrame'>\n",
      "RangeIndex: 10841 entries, 0 to 10840\n",
      "Data columns (total 13 columns):\n",
      " #   Column          Non-Null Count  Dtype  \n",
      "---  ------          --------------  -----  \n",
      " 0   App             10841 non-null  object \n",
      " 1   Category        10841 non-null  object \n",
      " 2   Rating          9367 non-null   float64\n",
      " 3   Reviews         10841 non-null  object \n",
      " 4   Size            10841 non-null  object \n",
      " 5   Installs        10841 non-null  object \n",
      " 6   Type            10840 non-null  object \n",
      " 7   Price           10841 non-null  object \n",
      " 8   Content Rating  10840 non-null  object \n",
      " 9   Genres          10841 non-null  object \n",
      " 10  Last Updated    10841 non-null  object \n",
      " 11  Current Ver     10833 non-null  object \n",
      " 12  Android Ver     10838 non-null  object \n",
      "dtypes: float64(1), object(12)\n",
      "memory usage: 1.1+ MB\n"
     ]
    }
   ],
   "source": [
    "data.info()"
   ]
  },
  {
   "cell_type": "code",
   "execution_count": 83,
   "id": "f348f4d1",
   "metadata": {},
   "outputs": [
    {
     "data": {
      "text/plain": [
       "array(['ART_AND_DESIGN', 'AUTO_AND_VEHICLES', 'BEAUTY',\n",
       "       'BOOKS_AND_REFERENCE', 'BUSINESS', 'COMICS', 'COMMUNICATION',\n",
       "       'DATING', 'EDUCATION', 'ENTERTAINMENT', 'EVENTS', 'FINANCE',\n",
       "       'FOOD_AND_DRINK', 'HEALTH_AND_FITNESS', 'HOUSE_AND_HOME',\n",
       "       'LIBRARIES_AND_DEMO', 'LIFESTYLE', 'GAME', 'FAMILY', 'MEDICAL',\n",
       "       'SOCIAL', 'SHOPPING', 'PHOTOGRAPHY', 'SPORTS', 'TRAVEL_AND_LOCAL',\n",
       "       'TOOLS', 'PERSONALIZATION', 'PRODUCTIVITY', 'PARENTING', 'WEATHER',\n",
       "       'VIDEO_PLAYERS', 'NEWS_AND_MAGAZINES', 'MAPS_AND_NAVIGATION',\n",
       "       'Life Made WI-Fi Touchscreen Photo Frame'], dtype=object)"
      ]
     },
     "execution_count": 83,
     "metadata": {},
     "output_type": "execute_result"
    }
   ],
   "source": [
    "# Get all distinct categories\n",
    "\n",
    "data['Category'].unique()"
   ]
  },
  {
   "cell_type": "code",
   "execution_count": 71,
   "id": "fd1510b4",
   "metadata": {},
   "outputs": [
    {
     "data": {
      "text/html": [
       "<div>\n",
       "<style scoped>\n",
       "    .dataframe tbody tr th:only-of-type {\n",
       "        vertical-align: middle;\n",
       "    }\n",
       "\n",
       "    .dataframe tbody tr th {\n",
       "        vertical-align: top;\n",
       "    }\n",
       "\n",
       "    .dataframe thead th {\n",
       "        text-align: right;\n",
       "    }\n",
       "</style>\n",
       "<table border=\"1\" class=\"dataframe\">\n",
       "  <thead>\n",
       "    <tr style=\"text-align: right;\">\n",
       "      <th></th>\n",
       "      <th>App</th>\n",
       "      <th>Category</th>\n",
       "      <th>Rating</th>\n",
       "      <th>Reviews</th>\n",
       "      <th>Size</th>\n",
       "      <th>Installs</th>\n",
       "      <th>Type</th>\n",
       "      <th>Price</th>\n",
       "      <th>Content Rating</th>\n",
       "      <th>Genres</th>\n",
       "      <th>Last Updated</th>\n",
       "      <th>Current Ver</th>\n",
       "      <th>Android Ver</th>\n",
       "    </tr>\n",
       "  </thead>\n",
       "  <tbody>\n",
       "    <tr>\n",
       "      <th>0</th>\n",
       "      <td>Photo Editor &amp; Candy Camera &amp; Grid &amp; ScrapBook</td>\n",
       "      <td>ART_AND_DESIGN</td>\n",
       "      <td>4.1</td>\n",
       "      <td>159</td>\n",
       "      <td>19M</td>\n",
       "      <td>10,000+</td>\n",
       "      <td>Free</td>\n",
       "      <td>0</td>\n",
       "      <td>Everyone</td>\n",
       "      <td>Art &amp; Design</td>\n",
       "      <td>January 7, 2018</td>\n",
       "      <td>1.0.0</td>\n",
       "      <td>4.0.3 and up</td>\n",
       "    </tr>\n",
       "    <tr>\n",
       "      <th>1</th>\n",
       "      <td>Coloring book moana</td>\n",
       "      <td>ART_AND_DESIGN</td>\n",
       "      <td>3.9</td>\n",
       "      <td>967</td>\n",
       "      <td>14M</td>\n",
       "      <td>500,000+</td>\n",
       "      <td>Free</td>\n",
       "      <td>0</td>\n",
       "      <td>Everyone</td>\n",
       "      <td>Art &amp; Design;Pretend Play</td>\n",
       "      <td>January 15, 2018</td>\n",
       "      <td>2.0.0</td>\n",
       "      <td>4.0.3 and up</td>\n",
       "    </tr>\n",
       "    <tr>\n",
       "      <th>2</th>\n",
       "      <td>U Launcher Lite – FREE Live Cool Themes, Hide ...</td>\n",
       "      <td>ART_AND_DESIGN</td>\n",
       "      <td>4.7</td>\n",
       "      <td>87510</td>\n",
       "      <td>8.7M</td>\n",
       "      <td>5,000,000+</td>\n",
       "      <td>Free</td>\n",
       "      <td>0</td>\n",
       "      <td>Everyone</td>\n",
       "      <td>Art &amp; Design</td>\n",
       "      <td>August 1, 2018</td>\n",
       "      <td>1.2.4</td>\n",
       "      <td>4.0.3 and up</td>\n",
       "    </tr>\n",
       "    <tr>\n",
       "      <th>3</th>\n",
       "      <td>Sketch - Draw &amp; Paint</td>\n",
       "      <td>ART_AND_DESIGN</td>\n",
       "      <td>4.5</td>\n",
       "      <td>215644</td>\n",
       "      <td>25M</td>\n",
       "      <td>50,000,000+</td>\n",
       "      <td>Free</td>\n",
       "      <td>0</td>\n",
       "      <td>Teen</td>\n",
       "      <td>Art &amp; Design</td>\n",
       "      <td>June 8, 2018</td>\n",
       "      <td>Varies with device</td>\n",
       "      <td>4.2 and up</td>\n",
       "    </tr>\n",
       "    <tr>\n",
       "      <th>4</th>\n",
       "      <td>Pixel Draw - Number Art Coloring Book</td>\n",
       "      <td>ART_AND_DESIGN</td>\n",
       "      <td>4.3</td>\n",
       "      <td>967</td>\n",
       "      <td>2.8M</td>\n",
       "      <td>100,000+</td>\n",
       "      <td>Free</td>\n",
       "      <td>0</td>\n",
       "      <td>Everyone</td>\n",
       "      <td>Art &amp; Design;Creativity</td>\n",
       "      <td>June 20, 2018</td>\n",
       "      <td>1.1</td>\n",
       "      <td>4.4 and up</td>\n",
       "    </tr>\n",
       "  </tbody>\n",
       "</table>\n",
       "</div>"
      ],
      "text/plain": [
       "                                                 App        Category  Rating  \\\n",
       "0     Photo Editor & Candy Camera & Grid & ScrapBook  ART_AND_DESIGN     4.1   \n",
       "1                                Coloring book moana  ART_AND_DESIGN     3.9   \n",
       "2  U Launcher Lite – FREE Live Cool Themes, Hide ...  ART_AND_DESIGN     4.7   \n",
       "3                              Sketch - Draw & Paint  ART_AND_DESIGN     4.5   \n",
       "4              Pixel Draw - Number Art Coloring Book  ART_AND_DESIGN     4.3   \n",
       "\n",
       "  Reviews  Size     Installs  Type Price Content Rating  \\\n",
       "0     159   19M      10,000+  Free     0       Everyone   \n",
       "1     967   14M     500,000+  Free     0       Everyone   \n",
       "2   87510  8.7M   5,000,000+  Free     0       Everyone   \n",
       "3  215644   25M  50,000,000+  Free     0           Teen   \n",
       "4     967  2.8M     100,000+  Free     0       Everyone   \n",
       "\n",
       "                      Genres      Last Updated         Current Ver  \\\n",
       "0               Art & Design   January 7, 2018               1.0.0   \n",
       "1  Art & Design;Pretend Play  January 15, 2018               2.0.0   \n",
       "2               Art & Design    August 1, 2018               1.2.4   \n",
       "3               Art & Design      June 8, 2018  Varies with device   \n",
       "4    Art & Design;Creativity     June 20, 2018                 1.1   \n",
       "\n",
       "    Android Ver  \n",
       "0  4.0.3 and up  \n",
       "1  4.0.3 and up  \n",
       "2  4.0.3 and up  \n",
       "3    4.2 and up  \n",
       "4    4.4 and up  "
      ]
     },
     "execution_count": 71,
     "metadata": {},
     "output_type": "execute_result"
    }
   ],
   "source": [
    "data.head()"
   ]
  },
  {
   "cell_type": "markdown",
   "id": "55d423d1",
   "metadata": {},
   "source": [
    "We see that some columns should be of numerical type, but are not, probably because of missing/corrupted entries. Now we are going to fix that.\n",
    "\n",
    "Further, the approximate number installs is given as a string, but we can convert them to integers."
   ]
  },
  {
   "cell_type": "code",
   "execution_count": 72,
   "id": "8d605b81",
   "metadata": {},
   "outputs": [],
   "source": [
    "# data cleansing\n",
    "\n",
    "data.loc[data['Installs']=='Free'] = data.loc[data['Installs']=='Free'].shift(periods=1,axis=\"columns\")\n",
    "data.loc[data['Installs']=='Free', 'App'] = data.loc[data['Installs']=='Free', 'Category']\n",
    "# assign the most likely category based on app name\n",
    "# TODO\n",
    "data.loc[data['Installs']=='Free', 'Category'] = \"LIFESTYLE\""
   ]
  },
  {
   "cell_type": "code",
   "execution_count": 73,
   "id": "29a8bca6",
   "metadata": {},
   "outputs": [],
   "source": [
    "# Convert installs to integer\n",
    "data['Installs'] = data['Installs'].apply(lambda x: re.search('\\d+',x.replace(',',''))[0])"
   ]
  },
  {
   "cell_type": "code",
   "execution_count": 233,
   "id": "84303e01",
   "metadata": {},
   "outputs": [
    {
     "data": {
      "image/png": "[encoded data removed]",
      "text/plain": [
       "<Figure size 1008x504 with 1 Axes>"
      ]
     },
     "metadata": {
      "needs_background": "light"
     },
     "output_type": "display_data"
    }
   ],
   "source": [
    "# Get number of installs\n",
    "plt.hist(pd.to_numeric(data['Installs']).sort_values().astype(str), bins=20)\n",
    "plt.xticks(rotation='vertical')\n",
    "plt.show()"
   ]
  },
  {
   "cell_type": "markdown",
   "id": "c76eda04",
   "metadata": {},
   "source": [
    "The periodic behaviour of the counts tells us that the approximations are pretty rough, since they are rounded to the lower number."
   ]
  },
  {
   "cell_type": "code",
   "execution_count": 93,
   "id": "c61f3ea8",
   "metadata": {},
   "outputs": [],
   "source": [
    "# convert appropriate columns to integer\n",
    "data['Installs'] = pd.to_numeric(data['Installs'])\n",
    "data['Reviews'] = pd.to_numeric(data['Reviews'])\n",
    "data['Rating'] = pd.to_numeric(data['Rating'])\n",
    "data['Price'] = data['Price'].apply(lambda x: re.search('\\d+',x.replace('.',''))[0])\n",
    "data['Price'] = pd.to_numeric(data['Price'])"
   ]
  },
  {
   "cell_type": "markdown",
   "id": "ff6fb3c8",
   "metadata": {},
   "source": [
    "Now we look at the rating distribution. We set a small cutoff to the number of Reviews in order to remove some of the noise. We then include the missing values to get a better picture of the dataset."
   ]
  },
  {
   "cell_type": "code",
   "execution_count": 281,
   "id": "66bf3804",
   "metadata": {},
   "outputs": [
    {
     "data": {
      "image/png": "[encoded data removed]",
      "text/plain": [
       "<Figure size 1008x504 with 1 Axes>"
      ]
     },
     "metadata": {
      "needs_background": "light"
     },
     "output_type": "display_data"
    }
   ],
   "source": [
    "plt.hist(pd.to_numeric(data.query('Reviews > 20 | Reviews < 1')['Rating']).sort_values().astype(str), bins=40)\n",
    "plt.xticks(rotation=45,fontsize=14)\n",
    "plt.title('Rating distribution of apps',fontsize=18)\n",
    "plt.show()"
   ]
  },
  {
   "cell_type": "markdown",
   "id": "dec70ae2",
   "metadata": {},
   "source": [
    "This plot tells us that the majority of the apps receive above average rating, which means that we probably have to redefine the notion of a \"good-rated\" and \"bad-rated\" app. We also see that there is a considerable amount of NA values, which shall be removed for further analyses."
   ]
  },
  {
   "cell_type": "code",
   "execution_count": 181,
   "id": "e7df3aa4",
   "metadata": {},
   "outputs": [],
   "source": [
    "# remove NA values from ratings\n",
    "\n",
    "ratings_data = data[~data['Rating'].isna()]"
   ]
  },
  {
   "cell_type": "markdown",
   "id": "b6204c7c",
   "metadata": {},
   "source": [
    "## Question 1 - Do paid apps receive better ratings?"
   ]
  },
  {
   "cell_type": "markdown",
   "id": "d843e8bf",
   "metadata": {},
   "source": [
    "We start by looking at the rating distributions for free and paid apps:"
   ]
  },
  {
   "cell_type": "code",
   "execution_count": 278,
   "id": "70e1e826",
   "metadata": {},
   "outputs": [
    {
     "data": {
      "image/png": "[encoded data removed]",
      "text/plain": [
       "<Figure size 1008x504 with 2 Axes>"
      ]
     },
     "metadata": {
      "needs_background": "light"
     },
     "output_type": "display_data"
    }
   ],
   "source": [
    "ratings_free = pd.to_numeric(ratings_data.query('Type == \"Free\" & Reviews > 20')['Rating'])\n",
    "ratings_paid = pd.to_numeric(ratings_data.query('Type == \"Paid\" & Reviews > 20')['Rating'])\n",
    "\n",
    "# 4.18\n",
    "mean_free = ratings_free.mean()\n",
    "\n",
    "# 4.26\n",
    "mean_paid = ratings_paid.mean()\n",
    "\n",
    "# some values from the [1,5] range are missing, so some minor tweeks are needed to adjust the vertical lines\n",
    "\n",
    "fig, axs = plt.subplots(2,1,sharex=True)\n",
    "axs[0].hist(ratings_free.sort_values().astype(str), bins=39)\n",
    "axs[0].axvline(x=(mean_free-1.2)*10,color='red')\n",
    "axs[0].title.set_text('Free apps')\n",
    "\n",
    "axs[1].hist(ratings_paid.sort_values().astype(str), bins=39)\n",
    "axs[1].axvline(x=(mean_paid-1.2)*10,color='red')\n",
    "axs[1].title.set_text('Paid apps')\n",
    "\n",
    "plt.suptitle('Histogram of number of apps with a given rating',fontsize=18)\n",
    "plt.xlabel('Rating',fontsize=16)\n",
    "plt.show()"
   ]
  },
  {
   "cell_type": "markdown",
   "id": "8e9c4484",
   "metadata": {},
   "source": [
    "Suprisingly, the plot shows that both distributions are nearly equal. Next, we are going to use a statistical test to make this observation more precise.\n",
    "\n",
    "The test we are going to use is called the Kolmogorov-Smirnov test. It is one of the most popular tests used to determine whether two samples are equal. The null hypothesis of the test is that both distributions are the same. Conveniently, it can be used directly from the scipy package."
   ]
  },
  {
   "cell_type": "code",
   "execution_count": 279,
   "id": "a1d53abb",
   "metadata": {},
   "outputs": [
    {
     "data": {
      "text/plain": [
       "KstestResult(statistic=0.13899239308669797, pvalue=1.2253536185724556e-08)"
      ]
     },
     "execution_count": 279,
     "metadata": {},
     "output_type": "execute_result"
    }
   ],
   "source": [
    "from scipy import stats\n",
    "stats.ks_2samp(ratings_free, ratings_paid)"
   ]
  },
  {
   "cell_type": "markdown",
   "id": "824b13f8",
   "metadata": {},
   "source": [
    "We can see that the p value is small enough, so we can safely reject the null hypothesis and conclude that both distributions are not different."
   ]
  },
  {
   "cell_type": "markdown",
   "id": "23f397c9",
   "metadata": {},
   "source": [
    "This result has several implications, the most important one being that a paid implication does not necessarily mean a good one (according to the average user)."
   ]
  },
  {
   "cell_type": "code",
   "execution_count": null,
   "id": "ad09d9a5",
   "metadata": {},
   "outputs": [],
   "source": []
  },
  {
   "cell_type": "markdown",
   "id": "46543754",
   "metadata": {},
   "source": [
    "## Question 2 - Which user types are likely to buy an app?"
   ]
  },
  {
   "cell_type": "markdown",
   "id": "9e15ae0a",
   "metadata": {},
   "source": [
    "Next, we turn to a different question and want to know which types of paid apps receive more installs and hence, if a developer decides to monetize an app through the Google Play Store, which category would be most lucrative.\n",
    "\n",
    "To this end, we are going to first look at popular app categories and categories with a high percent of paid apps."
   ]
  },
  {
   "cell_type": "code",
   "execution_count": 225,
   "id": "5025fa1f",
   "metadata": {},
   "outputs": [],
   "source": [
    "# get the percentage of paid apps for each category\n",
    "cat_counts = Counter(data['Category'])\n",
    "counts_paid = Counter(data.query('Type == \"Paid\"')['Category'].sort_values())\n",
    "\n",
    "paid_rates = []\n",
    "\n",
    "for c in data['Category'].unique():\n",
    "    paid_rates.append(counts_paid.get(c,0))"
   ]
  },
  {
   "cell_type": "code",
   "execution_count": 286,
   "id": "91f851d1",
   "metadata": {},
   "outputs": [
    {
     "data": {
      "image/png": "[encoded data removed]",
      "text/plain": [
       "<Figure size 1008x504 with 1 Axes>"
      ]
     },
     "metadata": {
      "needs_background": "light"
     },
     "output_type": "display_data"
    }
   ],
   "source": [
    "plt.bar(cat_counts.keys(),height=cat_counts.values(),label='All apps')\n",
    "plt.bar(cat_counts.keys(),height=paid_rates,label=\"Paid apps\")\n",
    "plt.xticks(rotation='vertical')\n",
    "plt.title('Number of all/paid apps per category',fontsize=18)\n",
    "plt.legend(prop={'size': 16})\n",
    "plt.show()"
   ]
  },
  {
   "cell_type": "markdown",
   "id": "6a58753b",
   "metadata": {},
   "source": [
    "Having answered this question, we now turn to the main question - which app category is most likely to be bought by users?\n",
    "\n",
    "We'll look at apps with > 500000 installs, which will be deemed 'popular'. This cutoff was chosen to be high enough, but to allow for some number of paid apps to make statistics relevant."
   ]
  },
  {
   "cell_type": "code",
   "execution_count": 254,
   "id": "11dd9009",
   "metadata": {},
   "outputs": [
    {
     "data": {
      "text/html": [
       "<div>\n",
       "<style scoped>\n",
       "    .dataframe tbody tr th:only-of-type {\n",
       "        vertical-align: middle;\n",
       "    }\n",
       "\n",
       "    .dataframe tbody tr th {\n",
       "        vertical-align: top;\n",
       "    }\n",
       "\n",
       "    .dataframe thead th {\n",
       "        text-align: right;\n",
       "    }\n",
       "</style>\n",
       "<table border=\"1\" class=\"dataframe\">\n",
       "  <thead>\n",
       "    <tr style=\"text-align: right;\">\n",
       "      <th></th>\n",
       "      <th>App</th>\n",
       "      <th>Category</th>\n",
       "      <th>Rating</th>\n",
       "      <th>Reviews</th>\n",
       "      <th>Size</th>\n",
       "      <th>Installs</th>\n",
       "      <th>Type</th>\n",
       "      <th>Price</th>\n",
       "      <th>Content Rating</th>\n",
       "      <th>Genres</th>\n",
       "      <th>Last Updated</th>\n",
       "      <th>Current Ver</th>\n",
       "      <th>Android Ver</th>\n",
       "    </tr>\n",
       "  </thead>\n",
       "  <tbody>\n",
       "    <tr>\n",
       "      <th>2241</th>\n",
       "      <td>Minecraft</td>\n",
       "      <td>FAMILY</td>\n",
       "      <td>4.5</td>\n",
       "      <td>2376564.0</td>\n",
       "      <td>Varies with device</td>\n",
       "      <td>10000000</td>\n",
       "      <td>Paid</td>\n",
       "      <td>699</td>\n",
       "      <td>Everyone 10+</td>\n",
       "      <td>Arcade;Action &amp; Adventure</td>\n",
       "      <td>July 24, 2018</td>\n",
       "      <td>1.5.2.1</td>\n",
       "      <td>Varies with device</td>\n",
       "    </tr>\n",
       "    <tr>\n",
       "      <th>2242</th>\n",
       "      <td>Card Wars - Adventure Time</td>\n",
       "      <td>FAMILY</td>\n",
       "      <td>4.3</td>\n",
       "      <td>129603.0</td>\n",
       "      <td>23M</td>\n",
       "      <td>1000000</td>\n",
       "      <td>Paid</td>\n",
       "      <td>299</td>\n",
       "      <td>Everyone 10+</td>\n",
       "      <td>Card;Action &amp; Adventure</td>\n",
       "      <td>February 11, 2016</td>\n",
       "      <td>1.11.0</td>\n",
       "      <td>2.3.3 and up</td>\n",
       "    </tr>\n",
       "    <tr>\n",
       "      <th>2883</th>\n",
       "      <td>Facetune - For Free</td>\n",
       "      <td>PHOTOGRAPHY</td>\n",
       "      <td>4.4</td>\n",
       "      <td>49553.0</td>\n",
       "      <td>48M</td>\n",
       "      <td>1000000</td>\n",
       "      <td>Paid</td>\n",
       "      <td>599</td>\n",
       "      <td>Everyone</td>\n",
       "      <td>Photography</td>\n",
       "      <td>July 25, 2018</td>\n",
       "      <td>1.3.1</td>\n",
       "      <td>4.1 and up</td>\n",
       "    </tr>\n",
       "    <tr>\n",
       "      <th>2912</th>\n",
       "      <td>Facetune - For Free</td>\n",
       "      <td>PHOTOGRAPHY</td>\n",
       "      <td>4.4</td>\n",
       "      <td>49553.0</td>\n",
       "      <td>48M</td>\n",
       "      <td>1000000</td>\n",
       "      <td>Paid</td>\n",
       "      <td>599</td>\n",
       "      <td>Everyone</td>\n",
       "      <td>Photography</td>\n",
       "      <td>July 25, 2018</td>\n",
       "      <td>1.3.1</td>\n",
       "      <td>4.1 and up</td>\n",
       "    </tr>\n",
       "    <tr>\n",
       "      <th>2950</th>\n",
       "      <td>Facetune - For Free</td>\n",
       "      <td>PHOTOGRAPHY</td>\n",
       "      <td>4.4</td>\n",
       "      <td>49553.0</td>\n",
       "      <td>48M</td>\n",
       "      <td>1000000</td>\n",
       "      <td>Paid</td>\n",
       "      <td>599</td>\n",
       "      <td>Everyone</td>\n",
       "      <td>Photography</td>\n",
       "      <td>July 25, 2018</td>\n",
       "      <td>1.3.1</td>\n",
       "      <td>4.1 and up</td>\n",
       "    </tr>\n",
       "    <tr>\n",
       "      <th>3403</th>\n",
       "      <td>Beautiful Widgets Pro</td>\n",
       "      <td>PERSONALIZATION</td>\n",
       "      <td>4.2</td>\n",
       "      <td>97890.0</td>\n",
       "      <td>14M</td>\n",
       "      <td>1000000</td>\n",
       "      <td>Paid</td>\n",
       "      <td>249</td>\n",
       "      <td>Everyone</td>\n",
       "      <td>Personalization</td>\n",
       "      <td>August 24, 2016</td>\n",
       "      <td>5.7.8</td>\n",
       "      <td>2.3 and up</td>\n",
       "    </tr>\n",
       "    <tr>\n",
       "      <th>3405</th>\n",
       "      <td>HD Widgets</td>\n",
       "      <td>PERSONALIZATION</td>\n",
       "      <td>4.3</td>\n",
       "      <td>58617.0</td>\n",
       "      <td>26M</td>\n",
       "      <td>1000000</td>\n",
       "      <td>Paid</td>\n",
       "      <td>99</td>\n",
       "      <td>Everyone</td>\n",
       "      <td>Personalization</td>\n",
       "      <td>December 7, 2016</td>\n",
       "      <td>4.3.2</td>\n",
       "      <td>4.4 and up</td>\n",
       "    </tr>\n",
       "    <tr>\n",
       "      <th>4034</th>\n",
       "      <td>Hitman Sniper</td>\n",
       "      <td>GAME</td>\n",
       "      <td>4.6</td>\n",
       "      <td>408292.0</td>\n",
       "      <td>29M</td>\n",
       "      <td>10000000</td>\n",
       "      <td>Paid</td>\n",
       "      <td>99</td>\n",
       "      <td>Mature 17+</td>\n",
       "      <td>Action</td>\n",
       "      <td>July 12, 2018</td>\n",
       "      <td>1.7.110758</td>\n",
       "      <td>4.1 and up</td>\n",
       "    </tr>\n",
       "    <tr>\n",
       "      <th>4260</th>\n",
       "      <td>Cut the Rope GOLD</td>\n",
       "      <td>FAMILY</td>\n",
       "      <td>4.6</td>\n",
       "      <td>61264.0</td>\n",
       "      <td>43M</td>\n",
       "      <td>1000000</td>\n",
       "      <td>Paid</td>\n",
       "      <td>99</td>\n",
       "      <td>Everyone</td>\n",
       "      <td>Puzzle</td>\n",
       "      <td>June 19, 2018</td>\n",
       "      <td>3.7.0</td>\n",
       "      <td>4.1 and up</td>\n",
       "    </tr>\n",
       "    <tr>\n",
       "      <th>4347</th>\n",
       "      <td>Minecraft</td>\n",
       "      <td>FAMILY</td>\n",
       "      <td>4.5</td>\n",
       "      <td>2375336.0</td>\n",
       "      <td>Varies with device</td>\n",
       "      <td>10000000</td>\n",
       "      <td>Paid</td>\n",
       "      <td>699</td>\n",
       "      <td>Everyone 10+</td>\n",
       "      <td>Arcade;Action &amp; Adventure</td>\n",
       "      <td>July 24, 2018</td>\n",
       "      <td>1.5.2.1</td>\n",
       "      <td>Varies with device</td>\n",
       "    </tr>\n",
       "    <tr>\n",
       "      <th>4842</th>\n",
       "      <td>Zombie Avengers:(Dreamsky)Stickman War Z</td>\n",
       "      <td>GAME</td>\n",
       "      <td>4.3</td>\n",
       "      <td>13604.0</td>\n",
       "      <td>96M</td>\n",
       "      <td>1000000</td>\n",
       "      <td>Paid</td>\n",
       "      <td>99</td>\n",
       "      <td>Teen</td>\n",
       "      <td>Action</td>\n",
       "      <td>June 26, 2018</td>\n",
       "      <td>2.4.4</td>\n",
       "      <td>2.3 and up</td>\n",
       "    </tr>\n",
       "    <tr>\n",
       "      <th>5490</th>\n",
       "      <td>True Skate</td>\n",
       "      <td>SPORTS</td>\n",
       "      <td>4.4</td>\n",
       "      <td>129409.0</td>\n",
       "      <td>73M</td>\n",
       "      <td>1000000</td>\n",
       "      <td>Paid</td>\n",
       "      <td>199</td>\n",
       "      <td>Everyone</td>\n",
       "      <td>Sports</td>\n",
       "      <td>August 4, 2018</td>\n",
       "      <td>1.5.1</td>\n",
       "      <td>4.0.3 and up</td>\n",
       "    </tr>\n",
       "    <tr>\n",
       "      <th>5578</th>\n",
       "      <td>Sleep as Android Unlock</td>\n",
       "      <td>LIFESTYLE</td>\n",
       "      <td>4.5</td>\n",
       "      <td>23966.0</td>\n",
       "      <td>872k</td>\n",
       "      <td>1000000</td>\n",
       "      <td>Paid</td>\n",
       "      <td>599</td>\n",
       "      <td>Everyone</td>\n",
       "      <td>Lifestyle</td>\n",
       "      <td>June 27, 2018</td>\n",
       "      <td>20180608</td>\n",
       "      <td>4.0 and up</td>\n",
       "    </tr>\n",
       "    <tr>\n",
       "      <th>5631</th>\n",
       "      <td>Five Nights at Freddy's</td>\n",
       "      <td>GAME</td>\n",
       "      <td>4.6</td>\n",
       "      <td>100805.0</td>\n",
       "      <td>50M</td>\n",
       "      <td>1000000</td>\n",
       "      <td>Paid</td>\n",
       "      <td>299</td>\n",
       "      <td>Teen</td>\n",
       "      <td>Action</td>\n",
       "      <td>December 2, 2014</td>\n",
       "      <td>1.85</td>\n",
       "      <td>2.3 and up</td>\n",
       "    </tr>\n",
       "    <tr>\n",
       "      <th>6675</th>\n",
       "      <td>Infinity Dungeon VIP</td>\n",
       "      <td>FAMILY</td>\n",
       "      <td>4.3</td>\n",
       "      <td>21804.0</td>\n",
       "      <td>44M</td>\n",
       "      <td>1000000</td>\n",
       "      <td>Paid</td>\n",
       "      <td>99</td>\n",
       "      <td>Everyone 10+</td>\n",
       "      <td>Role Playing</td>\n",
       "      <td>July 3, 2018</td>\n",
       "      <td>2.6.6</td>\n",
       "      <td>2.3 and up</td>\n",
       "    </tr>\n",
       "    <tr>\n",
       "      <th>6911</th>\n",
       "      <td>Beautiful Widgets Pro</td>\n",
       "      <td>PERSONALIZATION</td>\n",
       "      <td>4.2</td>\n",
       "      <td>97890.0</td>\n",
       "      <td>14M</td>\n",
       "      <td>1000000</td>\n",
       "      <td>Paid</td>\n",
       "      <td>249</td>\n",
       "      <td>Everyone</td>\n",
       "      <td>Personalization</td>\n",
       "      <td>August 24, 2016</td>\n",
       "      <td>5.7.8</td>\n",
       "      <td>2.3 and up</td>\n",
       "    </tr>\n",
       "    <tr>\n",
       "      <th>6919</th>\n",
       "      <td>HD Widgets</td>\n",
       "      <td>PERSONALIZATION</td>\n",
       "      <td>4.3</td>\n",
       "      <td>58614.0</td>\n",
       "      <td>26M</td>\n",
       "      <td>1000000</td>\n",
       "      <td>Paid</td>\n",
       "      <td>99</td>\n",
       "      <td>Everyone</td>\n",
       "      <td>Personalization</td>\n",
       "      <td>December 7, 2016</td>\n",
       "      <td>4.3.2</td>\n",
       "      <td>4.4 and up</td>\n",
       "    </tr>\n",
       "    <tr>\n",
       "      <th>7355</th>\n",
       "      <td>Threema</td>\n",
       "      <td>COMMUNICATION</td>\n",
       "      <td>4.5</td>\n",
       "      <td>51110.0</td>\n",
       "      <td>Varies with device</td>\n",
       "      <td>1000000</td>\n",
       "      <td>Paid</td>\n",
       "      <td>299</td>\n",
       "      <td>Everyone</td>\n",
       "      <td>Communication</td>\n",
       "      <td>August 3, 2018</td>\n",
       "      <td>Varies with device</td>\n",
       "      <td>Varies with device</td>\n",
       "    </tr>\n",
       "    <tr>\n",
       "      <th>7417</th>\n",
       "      <td>Grand Theft Auto: San Andreas</td>\n",
       "      <td>GAME</td>\n",
       "      <td>4.4</td>\n",
       "      <td>348962.0</td>\n",
       "      <td>26M</td>\n",
       "      <td>1000000</td>\n",
       "      <td>Paid</td>\n",
       "      <td>699</td>\n",
       "      <td>Mature 17+</td>\n",
       "      <td>Action</td>\n",
       "      <td>March 21, 2015</td>\n",
       "      <td>1.08</td>\n",
       "      <td>3.0 and up</td>\n",
       "    </tr>\n",
       "    <tr>\n",
       "      <th>8804</th>\n",
       "      <td>DraStic DS Emulator</td>\n",
       "      <td>GAME</td>\n",
       "      <td>4.6</td>\n",
       "      <td>87766.0</td>\n",
       "      <td>12M</td>\n",
       "      <td>1000000</td>\n",
       "      <td>Paid</td>\n",
       "      <td>499</td>\n",
       "      <td>Everyone</td>\n",
       "      <td>Action</td>\n",
       "      <td>July 19, 2016</td>\n",
       "      <td>r2.5.0.3a</td>\n",
       "      <td>2.3 and up</td>\n",
       "    </tr>\n",
       "    <tr>\n",
       "      <th>8860</th>\n",
       "      <td>Bloons TD 5</td>\n",
       "      <td>FAMILY</td>\n",
       "      <td>4.6</td>\n",
       "      <td>190086.0</td>\n",
       "      <td>94M</td>\n",
       "      <td>1000000</td>\n",
       "      <td>Paid</td>\n",
       "      <td>299</td>\n",
       "      <td>Everyone</td>\n",
       "      <td>Strategy</td>\n",
       "      <td>July 13, 2018</td>\n",
       "      <td>3.16</td>\n",
       "      <td>2.3.3 and up</td>\n",
       "    </tr>\n",
       "    <tr>\n",
       "      <th>9151</th>\n",
       "      <td>Lost Journey (Dreamsky)</td>\n",
       "      <td>GAME</td>\n",
       "      <td>4.5</td>\n",
       "      <td>32344.0</td>\n",
       "      <td>29M</td>\n",
       "      <td>1000000</td>\n",
       "      <td>Paid</td>\n",
       "      <td>99</td>\n",
       "      <td>Everyone</td>\n",
       "      <td>Adventure</td>\n",
       "      <td>October 21, 2016</td>\n",
       "      <td>1.3.12</td>\n",
       "      <td>3.0 and up</td>\n",
       "    </tr>\n",
       "    <tr>\n",
       "      <th>9165</th>\n",
       "      <td>League of Stickman 2018- Ninja Arena PVP(Dream...</td>\n",
       "      <td>GAME</td>\n",
       "      <td>4.4</td>\n",
       "      <td>32496.0</td>\n",
       "      <td>99M</td>\n",
       "      <td>1000000</td>\n",
       "      <td>Paid</td>\n",
       "      <td>99</td>\n",
       "      <td>Teen</td>\n",
       "      <td>Action</td>\n",
       "      <td>July 3, 2018</td>\n",
       "      <td>5.3.3</td>\n",
       "      <td>2.3 and up</td>\n",
       "    </tr>\n",
       "    <tr>\n",
       "      <th>9170</th>\n",
       "      <td>Stickman Legends: Shadow Wars</td>\n",
       "      <td>GAME</td>\n",
       "      <td>4.4</td>\n",
       "      <td>38419.0</td>\n",
       "      <td>100M</td>\n",
       "      <td>1000000</td>\n",
       "      <td>Paid</td>\n",
       "      <td>99</td>\n",
       "      <td>Everyone 10+</td>\n",
       "      <td>Action</td>\n",
       "      <td>August 3, 2018</td>\n",
       "      <td>2.3.24</td>\n",
       "      <td>4.1 and up</td>\n",
       "    </tr>\n",
       "    <tr>\n",
       "      <th>9678</th>\n",
       "      <td>Where's My Water?</td>\n",
       "      <td>FAMILY</td>\n",
       "      <td>4.7</td>\n",
       "      <td>188740.0</td>\n",
       "      <td>69M</td>\n",
       "      <td>1000000</td>\n",
       "      <td>Paid</td>\n",
       "      <td>199</td>\n",
       "      <td>Everyone</td>\n",
       "      <td>Puzzle;Brain Games</td>\n",
       "      <td>July 5, 2018</td>\n",
       "      <td>1.16.0</td>\n",
       "      <td>4.2 and up</td>\n",
       "    </tr>\n",
       "    <tr>\n",
       "      <th>9941</th>\n",
       "      <td>Tasker</td>\n",
       "      <td>TOOLS</td>\n",
       "      <td>4.6</td>\n",
       "      <td>43045.0</td>\n",
       "      <td>Varies with device</td>\n",
       "      <td>1000000</td>\n",
       "      <td>Paid</td>\n",
       "      <td>299</td>\n",
       "      <td>Everyone</td>\n",
       "      <td>Tools</td>\n",
       "      <td>June 25, 2018</td>\n",
       "      <td>Varies with device</td>\n",
       "      <td>Varies with device</td>\n",
       "    </tr>\n",
       "    <tr>\n",
       "      <th>10682</th>\n",
       "      <td>Fruit Ninja Classic</td>\n",
       "      <td>GAME</td>\n",
       "      <td>4.3</td>\n",
       "      <td>85468.0</td>\n",
       "      <td>36M</td>\n",
       "      <td>1000000</td>\n",
       "      <td>Paid</td>\n",
       "      <td>99</td>\n",
       "      <td>Everyone</td>\n",
       "      <td>Arcade</td>\n",
       "      <td>June 8, 2018</td>\n",
       "      <td>2.4.1.485300</td>\n",
       "      <td>4.0.3 and up</td>\n",
       "    </tr>\n",
       "  </tbody>\n",
       "</table>\n",
       "</div>"
      ],
      "text/plain": [
       "                                                     App         Category  \\\n",
       "2241                                           Minecraft           FAMILY   \n",
       "2242                          Card Wars - Adventure Time           FAMILY   \n",
       "2883                                 Facetune - For Free      PHOTOGRAPHY   \n",
       "2912                                 Facetune - For Free      PHOTOGRAPHY   \n",
       "2950                                 Facetune - For Free      PHOTOGRAPHY   \n",
       "3403                               Beautiful Widgets Pro  PERSONALIZATION   \n",
       "3405                                          HD Widgets  PERSONALIZATION   \n",
       "4034                                       Hitman Sniper             GAME   \n",
       "4260                                   Cut the Rope GOLD           FAMILY   \n",
       "4347                                           Minecraft           FAMILY   \n",
       "4842            Zombie Avengers:(Dreamsky)Stickman War Z             GAME   \n",
       "5490                                          True Skate           SPORTS   \n",
       "5578                             Sleep as Android Unlock        LIFESTYLE   \n",
       "5631                             Five Nights at Freddy's             GAME   \n",
       "6675                                Infinity Dungeon VIP           FAMILY   \n",
       "6911                               Beautiful Widgets Pro  PERSONALIZATION   \n",
       "6919                                          HD Widgets  PERSONALIZATION   \n",
       "7355                                             Threema    COMMUNICATION   \n",
       "7417                       Grand Theft Auto: San Andreas             GAME   \n",
       "8804                                 DraStic DS Emulator             GAME   \n",
       "8860                                         Bloons TD 5           FAMILY   \n",
       "9151                             Lost Journey (Dreamsky)             GAME   \n",
       "9165   League of Stickman 2018- Ninja Arena PVP(Dream...             GAME   \n",
       "9170                       Stickman Legends: Shadow Wars             GAME   \n",
       "9678                                   Where's My Water?           FAMILY   \n",
       "9941                                              Tasker            TOOLS   \n",
       "10682                                Fruit Ninja Classic             GAME   \n",
       "\n",
       "       Rating    Reviews                Size  Installs  Type  Price  \\\n",
       "2241      4.5  2376564.0  Varies with device  10000000  Paid    699   \n",
       "2242      4.3   129603.0                 23M   1000000  Paid    299   \n",
       "2883      4.4    49553.0                 48M   1000000  Paid    599   \n",
       "2912      4.4    49553.0                 48M   1000000  Paid    599   \n",
       "2950      4.4    49553.0                 48M   1000000  Paid    599   \n",
       "3403      4.2    97890.0                 14M   1000000  Paid    249   \n",
       "3405      4.3    58617.0                 26M   1000000  Paid     99   \n",
       "4034      4.6   408292.0                 29M  10000000  Paid     99   \n",
       "4260      4.6    61264.0                 43M   1000000  Paid     99   \n",
       "4347      4.5  2375336.0  Varies with device  10000000  Paid    699   \n",
       "4842      4.3    13604.0                 96M   1000000  Paid     99   \n",
       "5490      4.4   129409.0                 73M   1000000  Paid    199   \n",
       "5578      4.5    23966.0                872k   1000000  Paid    599   \n",
       "5631      4.6   100805.0                 50M   1000000  Paid    299   \n",
       "6675      4.3    21804.0                 44M   1000000  Paid     99   \n",
       "6911      4.2    97890.0                 14M   1000000  Paid    249   \n",
       "6919      4.3    58614.0                 26M   1000000  Paid     99   \n",
       "7355      4.5    51110.0  Varies with device   1000000  Paid    299   \n",
       "7417      4.4   348962.0                 26M   1000000  Paid    699   \n",
       "8804      4.6    87766.0                 12M   1000000  Paid    499   \n",
       "8860      4.6   190086.0                 94M   1000000  Paid    299   \n",
       "9151      4.5    32344.0                 29M   1000000  Paid     99   \n",
       "9165      4.4    32496.0                 99M   1000000  Paid     99   \n",
       "9170      4.4    38419.0                100M   1000000  Paid     99   \n",
       "9678      4.7   188740.0                 69M   1000000  Paid    199   \n",
       "9941      4.6    43045.0  Varies with device   1000000  Paid    299   \n",
       "10682     4.3    85468.0                 36M   1000000  Paid     99   \n",
       "\n",
       "      Content Rating                     Genres       Last Updated  \\\n",
       "2241    Everyone 10+  Arcade;Action & Adventure      July 24, 2018   \n",
       "2242    Everyone 10+    Card;Action & Adventure  February 11, 2016   \n",
       "2883        Everyone                Photography      July 25, 2018   \n",
       "2912        Everyone                Photography      July 25, 2018   \n",
       "2950        Everyone                Photography      July 25, 2018   \n",
       "3403        Everyone            Personalization    August 24, 2016   \n",
       "3405        Everyone            Personalization   December 7, 2016   \n",
       "4034      Mature 17+                     Action      July 12, 2018   \n",
       "4260        Everyone                     Puzzle      June 19, 2018   \n",
       "4347    Everyone 10+  Arcade;Action & Adventure      July 24, 2018   \n",
       "4842            Teen                     Action      June 26, 2018   \n",
       "5490        Everyone                     Sports     August 4, 2018   \n",
       "5578        Everyone                  Lifestyle      June 27, 2018   \n",
       "5631            Teen                     Action   December 2, 2014   \n",
       "6675    Everyone 10+               Role Playing       July 3, 2018   \n",
       "6911        Everyone            Personalization    August 24, 2016   \n",
       "6919        Everyone            Personalization   December 7, 2016   \n",
       "7355        Everyone              Communication     August 3, 2018   \n",
       "7417      Mature 17+                     Action     March 21, 2015   \n",
       "8804        Everyone                     Action      July 19, 2016   \n",
       "8860        Everyone                   Strategy      July 13, 2018   \n",
       "9151        Everyone                  Adventure   October 21, 2016   \n",
       "9165            Teen                     Action       July 3, 2018   \n",
       "9170    Everyone 10+                     Action     August 3, 2018   \n",
       "9678        Everyone         Puzzle;Brain Games       July 5, 2018   \n",
       "9941        Everyone                      Tools      June 25, 2018   \n",
       "10682       Everyone                     Arcade       June 8, 2018   \n",
       "\n",
       "              Current Ver         Android Ver  \n",
       "2241              1.5.2.1  Varies with device  \n",
       "2242               1.11.0        2.3.3 and up  \n",
       "2883                1.3.1          4.1 and up  \n",
       "2912                1.3.1          4.1 and up  \n",
       "2950                1.3.1          4.1 and up  \n",
       "3403                5.7.8          2.3 and up  \n",
       "3405                4.3.2          4.4 and up  \n",
       "4034           1.7.110758          4.1 and up  \n",
       "4260                3.7.0          4.1 and up  \n",
       "4347              1.5.2.1  Varies with device  \n",
       "4842                2.4.4          2.3 and up  \n",
       "5490                1.5.1        4.0.3 and up  \n",
       "5578             20180608          4.0 and up  \n",
       "5631                 1.85          2.3 and up  \n",
       "6675                2.6.6          2.3 and up  \n",
       "6911                5.7.8          2.3 and up  \n",
       "6919                4.3.2          4.4 and up  \n",
       "7355   Varies with device  Varies with device  \n",
       "7417                 1.08          3.0 and up  \n",
       "8804            r2.5.0.3a          2.3 and up  \n",
       "8860                 3.16        2.3.3 and up  \n",
       "9151               1.3.12          3.0 and up  \n",
       "9165                5.3.3          2.3 and up  \n",
       "9170               2.3.24          4.1 and up  \n",
       "9678               1.16.0          4.2 and up  \n",
       "9941   Varies with device  Varies with device  \n",
       "10682        2.4.1.485300        4.0.3 and up  "
      ]
     },
     "execution_count": 254,
     "metadata": {},
     "output_type": "execute_result"
    }
   ],
   "source": [
    "data.query('Type == \"Paid\" & Installs > 500000')"
   ]
  },
  {
   "cell_type": "markdown",
   "id": "b41225e8",
   "metadata": {},
   "source": [
    "By eyeballing this small dataset, we can already make out some trends:\n",
    "\n",
    "- the most successful genred seem to be action games, personal apps and photography  \n",
    "- the average rating of the paid apps is higher than the average rating of free apps with same number of downloads, namely:"
   ]
  },
  {
   "cell_type": "code",
   "execution_count": 257,
   "id": "7ff0badc",
   "metadata": {},
   "outputs": [
    {
     "name": "stdout",
     "output_type": "stream",
     "text": [
      "Average rating is 4.44 for paid apps vs 4.28 for free apps\n"
     ]
    }
   ],
   "source": [
    "mean_rating_paid = data.query('Type == \"Paid\" & Installs > 500000')['Rating'].mean()\n",
    "mean_rating_free = data.query('Type == \"Free\" & Installs > 500000')['Rating'].mean()\n",
    "\n",
    "print(f'Average rating is {mean_rating_paid:.2f} for paid apps vs {mean_rating_free:.2f} for free apps.')"
   ]
  },
  {
   "cell_type": "markdown",
   "id": "6c1b370b",
   "metadata": {},
   "source": [
    "This finding begs the question if more popular apps receive higher ratings"
   ]
  },
  {
   "cell_type": "code",
   "execution_count": 299,
   "id": "37b7fb3e",
   "metadata": {},
   "outputs": [
    {
     "data": {
      "text/plain": [
       "<matplotlib.collections.PathCollection at 0x1dbcb930fd0>"
      ]
     },
     "execution_count": 299,
     "metadata": {},
     "output_type": "execute_result"
    },
    {
     "data": {
      "image/png": "[encoded data removed]",
      "text/plain": [
       "<Figure size 1008x504 with 1 Axes>"
      ]
     },
     "metadata": {
      "needs_background": "light"
     },
     "output_type": "display_data"
    }
   ],
   "source": [
    "from sklearn.linear_model import LinearRegression\n",
    "data_f = data.query('Reviews > 20 & Installs > 0 & Rating > 0')\n",
    "installs = data_f['Installs']\n",
    "X = np.column_stack((np.ones_like(installs), installs))\n",
    "\n",
    "reg = LinearRegression().fit(X, data_f['Rating'])\n",
    "\n",
    "plt.scatter(data_f['Rating'],installs)\n",
    "\n",
    "X_test = np.lin\n",
    "plt.scatter(reg.predict(X), data_f['Rating'])"
   ]
  },
  {
   "cell_type": "code",
   "execution_count": 295,
   "id": "0fe2360b",
   "metadata": {},
   "outputs": [
    {
     "data": {
      "text/plain": [
       "array([4.18820409, 4.18834454, 4.18963431, ..., 4.18820266, 4.18820151,\n",
       "       4.19106739])"
      ]
     },
     "execution_count": 295,
     "metadata": {},
     "output_type": "execute_result"
    }
   ],
   "source": [
    "reg.predict(X)"
   ]
  },
  {
   "cell_type": "code",
   "execution_count": null,
   "id": "66262f6b",
   "metadata": {},
   "outputs": [],
   "source": []
  }
 ],
 "metadata": {
  "kernelspec": {
   "display_name": "Python 3 (ipykernel)",
   "language": "python",
   "name": "python3"
  },
  "language_info": {
   "codemirror_mode": {
    "name": "ipython",
    "version": 3
   },
   "file_extension": ".py",
   "mimetype": "text/x-python",
   "name": "python",
   "nbconvert_exporter": "python",
   "pygments_lexer": "ipython3",
   "version": "3.7.3"
  }
 },
 "nbformat": 4,
 "nbformat_minor": 5
}
